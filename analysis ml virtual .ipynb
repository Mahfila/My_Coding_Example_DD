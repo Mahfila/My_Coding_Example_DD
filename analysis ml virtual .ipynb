{
  "nbformat": 4,
  "nbformat_minor": 0,
  "metadata": {
    "colab": {
      "provenance": [],
      "authorship_tag": "ABX9TyMQ9+ysVIw3fmQc2B1ucnDf",
      "include_colab_link": true
    },
    "kernelspec": {
      "name": "python3",
      "display_name": "Python 3"
    },
    "language_info": {
      "name": "python"
    }
  },
  "cells": [
    {
      "cell_type": "markdown",
      "metadata": {
        "id": "view-in-github",
        "colab_type": "text"
      },
      "source": [
        "<a href=\"https://colab.research.google.com/github/Mahfila/My_Coding_Example_DD/blob/main/analysis%20ml%20virtual%20.ipynb\" target=\"_parent\"><img src=\"https://colab.research.google.com/assets/colab-badge.svg\" alt=\"Open In Colab\"/></a>"
      ]
    },
    {
      "cell_type": "code",
      "execution_count": 3,
      "metadata": {
        "colab": {
          "base_uri": "https://localhost:8080/",
          "height": 384
        },
        "id": "zxvFSL98SDH7",
        "outputId": "3254797f-2bf2-4fa6-8e3d-3bc62e7542d2"
      },
      "outputs": [
        {
          "output_type": "error",
          "ename": "ModuleNotFoundError",
          "evalue": "No module named 'teachopencadd'",
          "traceback": [
            "\u001b[0;31m---------------------------------------------------------------------------\u001b[0m",
            "\u001b[0;31mModuleNotFoundError\u001b[0m                       Traceback (most recent call last)",
            "\u001b[0;32m<ipython-input-3-487a20dd71e4>\u001b[0m in \u001b[0;36m<cell line: 17>\u001b[0;34m()\u001b[0m\n\u001b[1;32m     15\u001b[0m \u001b[0;32mfrom\u001b[0m \u001b[0mrdkit\u001b[0m\u001b[0;34m.\u001b[0m\u001b[0mChem\u001b[0m \u001b[0;32mimport\u001b[0m \u001b[0mMACCSkeys\u001b[0m\u001b[0;34m,\u001b[0m \u001b[0mrdFingerprintGenerator\u001b[0m\u001b[0;34m\u001b[0m\u001b[0;34m\u001b[0m\u001b[0m\n\u001b[1;32m     16\u001b[0m \u001b[0;34m\u001b[0m\u001b[0m\n\u001b[0;32m---> 17\u001b[0;31m \u001b[0;32mfrom\u001b[0m \u001b[0mteachopencadd\u001b[0m\u001b[0;34m.\u001b[0m\u001b[0mutils\u001b[0m \u001b[0;32mimport\u001b[0m \u001b[0mseed_everything\u001b[0m\u001b[0;34m\u001b[0m\u001b[0;34m\u001b[0m\u001b[0m\n\u001b[0m\u001b[1;32m     18\u001b[0m \u001b[0;34m\u001b[0m\u001b[0m\n\u001b[1;32m     19\u001b[0m \u001b[0;31m# Silence some expected warnings\u001b[0m\u001b[0;34m\u001b[0m\u001b[0;34m\u001b[0m\u001b[0m\n",
            "\u001b[0;31mModuleNotFoundError\u001b[0m: No module named 'teachopencadd'",
            "",
            "\u001b[0;31m---------------------------------------------------------------------------\u001b[0;32m\nNOTE: If your import is failing due to a missing package, you can\nmanually install dependencies using either !pip or !apt.\n\nTo view examples of installing some common dependencies, click the\n\"Open Examples\" button below.\n\u001b[0;31m---------------------------------------------------------------------------\u001b[0m\n"
          ],
          "errorDetails": {
            "actions": [
              {
                "action": "open_url",
                "actionText": "Open Examples",
                "url": "/notebooks/snippets/importing_libraries.ipynb"
              }
            ]
          }
        }
      ],
      "source": [
        "from pathlib import Path\n",
        "from warnings import filterwarnings\n",
        "import time\n",
        "\n",
        "import pandas as pd\n",
        "import numpy as np\n",
        "from sklearn import svm, metrics, clone\n",
        "from sklearn.ensemble import RandomForestClassifier\n",
        "from sklearn.neural_network import MLPClassifier\n",
        "from sklearn.model_selection import KFold, train_test_split\n",
        "from sklearn.metrics import auc, accuracy_score, recall_score\n",
        "from sklearn.metrics import roc_curve, roc_auc_score\n",
        "import matplotlib.pyplot as plt\n",
        "from rdkit import Chem\n",
        "from rdkit.Chem import MACCSkeys, rdFingerprintGenerator\n",
        "\n",
        "from teachopencadd.utils import seed_everything\n",
        "\n",
        "# Silence some expected warnings\n",
        "filterwarnings(\"ignore\")\n",
        "# Fix seed for reproducible results\n",
        "SEED = 22\n",
        "seed_everything(SEED)"
      ]
    },
    {
      "source": [
        "!pip install rdkit"
      ],
      "cell_type": "code",
      "metadata": {
        "colab": {
          "base_uri": "https://localhost:8080/"
        },
        "id": "PIUS-OdSTZBu",
        "outputId": "e213a3da-e731-46e1-9460-0636aebd33e5"
      },
      "execution_count": 2,
      "outputs": [
        {
          "output_type": "stream",
          "name": "stdout",
          "text": [
            "Collecting rdkit\n",
            "  Downloading rdkit-2023.9.5-cp310-cp310-manylinux_2_17_x86_64.manylinux2014_x86_64.whl (34.4 MB)\n",
            "\u001b[2K     \u001b[90m━━━━━━━━━━━━━━━━━━━━━━━━━━━━━━━━━━━━━━━━\u001b[0m \u001b[32m34.4/34.4 MB\u001b[0m \u001b[31m23.6 MB/s\u001b[0m eta \u001b[36m0:00:00\u001b[0m\n",
            "\u001b[?25hRequirement already satisfied: numpy in /usr/local/lib/python3.10/dist-packages (from rdkit) (1.25.2)\n",
            "Requirement already satisfied: Pillow in /usr/local/lib/python3.10/dist-packages (from rdkit) (9.4.0)\n",
            "Installing collected packages: rdkit\n",
            "Successfully installed rdkit-2023.9.5\n"
          ]
        }
      ]
    },
    {
      "source": [
        "!pip install --upgrade pip"
      ],
      "cell_type": "code",
      "metadata": {
        "colab": {
          "base_uri": "https://localhost:8080/"
        },
        "id": "n0jEY2VtTxzp",
        "outputId": "07a9cd9d-16d3-4a8e-cd40-b49fb3a1168e"
      },
      "execution_count": 7,
      "outputs": [
        {
          "output_type": "stream",
          "name": "stdout",
          "text": [
            "Requirement already satisfied: pip in /usr/local/lib/python3.10/dist-packages (23.1.2)\n",
            "Collecting pip\n",
            "  Downloading pip-24.0-py3-none-any.whl (2.1 MB)\n",
            "\u001b[2K     \u001b[90m━━━━━━━━━━━━━━━━━━━━━━━━━━━━━━━━━━━━━━━━\u001b[0m \u001b[32m2.1/2.1 MB\u001b[0m \u001b[31m11.5 MB/s\u001b[0m eta \u001b[36m0:00:00\u001b[0m\n",
            "\u001b[?25hInstalling collected packages: pip\n",
            "  Attempting uninstall: pip\n",
            "    Found existing installation: pip 23.1.2\n",
            "    Uninstalling pip-23.1.2:\n",
            "      Successfully uninstalled pip-23.1.2\n",
            "Successfully installed pip-24.0\n"
          ]
        }
      ]
    },
    {
      "source": [
        "from teachopencadd.utils import seed_everything"
      ],
      "cell_type": "code",
      "metadata": {
        "colab": {
          "base_uri": "https://localhost:8080/",
          "height": 315
        },
        "id": "RqJcAxHXT1ag",
        "outputId": "de98fb3f-f5d9-4b41-f5ca-68548c8a7c69"
      },
      "execution_count": 8,
      "outputs": [
        {
          "output_type": "error",
          "ename": "ModuleNotFoundError",
          "evalue": "No module named 'teachopencadd'",
          "traceback": [
            "\u001b[0;31m---------------------------------------------------------------------------\u001b[0m",
            "\u001b[0;31mModuleNotFoundError\u001b[0m                       Traceback (most recent call last)",
            "\u001b[0;32m<ipython-input-8-97ea414a285b>\u001b[0m in \u001b[0;36m<cell line: 1>\u001b[0;34m()\u001b[0m\n\u001b[0;32m----> 1\u001b[0;31m \u001b[0;32mfrom\u001b[0m \u001b[0mteachopencadd\u001b[0m\u001b[0;34m.\u001b[0m\u001b[0mutils\u001b[0m \u001b[0;32mimport\u001b[0m \u001b[0mseed_everything\u001b[0m\u001b[0;34m\u001b[0m\u001b[0;34m\u001b[0m\u001b[0m\n\u001b[0m",
            "\u001b[0;31mModuleNotFoundError\u001b[0m: No module named 'teachopencadd'",
            "",
            "\u001b[0;31m---------------------------------------------------------------------------\u001b[0;32m\nNOTE: If your import is failing due to a missing package, you can\nmanually install dependencies using either !pip or !apt.\n\nTo view examples of installing some common dependencies, click the\n\"Open Examples\" button below.\n\u001b[0;31m---------------------------------------------------------------------------\u001b[0m\n"
          ],
          "errorDetails": {
            "actions": [
              {
                "action": "open_url",
                "actionText": "Open Examples",
                "url": "/notebooks/snippets/importing_libraries.ipynb"
              }
            ]
          }
        }
      ]
    },
    {
      "source": [
        "!pip install teachopencadd"
      ],
      "cell_type": "code",
      "metadata": {
        "colab": {
          "base_uri": "https://localhost:8080/"
        },
        "id": "8J_VuXgPUGwY",
        "outputId": "f7701b4b-b5e6-4201-a65a-be073d853385"
      },
      "execution_count": 9,
      "outputs": [
        {
          "output_type": "stream",
          "name": "stdout",
          "text": [
            "\u001b[31mERROR: Could not find a version that satisfies the requirement teachopencadd (from versions: none)\u001b[0m\u001b[31m\n",
            "\u001b[0m\u001b[31mERROR: No matching distribution found for teachopencadd\u001b[0m\u001b[31m\n",
            "\u001b[0m"
          ]
        }
      ]
    },
    {
      "source": [
        "!pip show teachopencadd"
      ],
      "cell_type": "code",
      "metadata": {
        "colab": {
          "base_uri": "https://localhost:8080/"
        },
        "id": "PRdY0HxPUNcH",
        "outputId": "a5c026e4-c0ab-4c0e-daa9-1ac941849217"
      },
      "execution_count": 10,
      "outputs": [
        {
          "output_type": "stream",
          "name": "stdout",
          "text": [
            "\u001b[33mWARNING: Package(s) not found: teachopencadd\u001b[0m\u001b[33m\n",
            "\u001b[0m"
          ]
        }
      ]
    },
    {
      "source": [
        "!ping google.com"
      ],
      "cell_type": "code",
      "metadata": {
        "colab": {
          "base_uri": "https://localhost:8080/"
        },
        "id": "mwZDRe7oUbYY",
        "outputId": "512c0b3f-8dbd-42a2-9216-cf3e9dd06b5d"
      },
      "execution_count": 13,
      "outputs": [
        {
          "output_type": "stream",
          "name": "stdout",
          "text": [
            "/bin/bash: line 1: ping: command not found\n"
          ]
        }
      ]
    },
    {
      "source": [
        "!sudo apt-get update\n",
        "!sudo apt-get install inetutils-ping"
      ],
      "cell_type": "code",
      "metadata": {
        "colab": {
          "base_uri": "https://localhost:8080/"
        },
        "id": "XFX0iazvUpWC",
        "outputId": "3a6c1ff2-c79d-4059-cd99-f485f097357b"
      },
      "execution_count": 15,
      "outputs": [
        {
          "output_type": "stream",
          "name": "stdout",
          "text": [
            "Hit:1 https://developer.download.nvidia.com/compute/cuda/repos/ubuntu2204/x86_64  InRelease\n",
            "Get:2 https://cloud.r-project.org/bin/linux/ubuntu jammy-cran40/ InRelease [3,626 B]\n",
            "Get:3 http://security.ubuntu.com/ubuntu jammy-security InRelease [110 kB]\n",
            "Hit:4 http://archive.ubuntu.com/ubuntu jammy InRelease\n",
            "Get:5 http://archive.ubuntu.com/ubuntu jammy-updates InRelease [119 kB]\n",
            "Hit:6 https://ppa.launchpadcontent.net/c2d4u.team/c2d4u4.0+/ubuntu jammy InRelease\n",
            "Hit:7 https://ppa.launchpadcontent.net/deadsnakes/ppa/ubuntu jammy InRelease\n",
            "Hit:8 https://ppa.launchpadcontent.net/graphics-drivers/ppa/ubuntu jammy InRelease\n",
            "Get:9 http://security.ubuntu.com/ubuntu jammy-security/main amd64 Packages [1,691 kB]\n",
            "Hit:10 http://archive.ubuntu.com/ubuntu jammy-backports InRelease\n",
            "Hit:11 https://ppa.launchpadcontent.net/ubuntugis/ppa/ubuntu jammy InRelease\n",
            "Get:12 http://security.ubuntu.com/ubuntu jammy-security/universe amd64 Packages [1,081 kB]\n",
            "Get:13 http://archive.ubuntu.com/ubuntu jammy-updates/main amd64 Packages [1,974 kB]\n",
            "Get:14 http://archive.ubuntu.com/ubuntu jammy-updates/restricted amd64 Packages [2,174 kB]\n",
            "Get:15 http://archive.ubuntu.com/ubuntu jammy-updates/universe amd64 Packages [1,357 kB]\n",
            "Fetched 8,510 kB in 3s (2,759 kB/s)\n",
            "Reading package lists... Done\n",
            "Reading package lists... Done\n",
            "Building dependency tree... Done\n",
            "Reading state information... Done\n",
            "The following additional packages will be installed:\n",
            "  netbase\n",
            "The following NEW packages will be installed:\n",
            "  inetutils-ping netbase\n",
            "0 upgraded, 2 newly installed, 0 to remove and 50 not upgraded.\n",
            "Need to get 76.8 kB of archives.\n",
            "After this operation, 248 kB of additional disk space will be used.\n",
            "Get:1 http://archive.ubuntu.com/ubuntu jammy/main amd64 netbase all 6.3 [12.9 kB]\n",
            "Get:2 http://archive.ubuntu.com/ubuntu jammy-updates/universe amd64 inetutils-ping amd64 2:2.2-2ubuntu0.1 [63.8 kB]\n",
            "Fetched 76.8 kB in 1s (116 kB/s)\n",
            "debconf: unable to initialize frontend: Dialog\n",
            "debconf: (No usable dialog-like program is installed, so the dialog based frontend cannot be used. at /usr/share/perl5/Debconf/FrontEnd/Dialog.pm line 78, <> line 2.)\n",
            "debconf: falling back to frontend: Readline\n",
            "debconf: unable to initialize frontend: Readline\n",
            "debconf: (This frontend requires a controlling tty.)\n",
            "debconf: falling back to frontend: Teletype\n",
            "dpkg-preconfigure: unable to re-open stdin: \n",
            "Selecting previously unselected package netbase.\n",
            "(Reading database ... 121752 files and directories currently installed.)\n",
            "Preparing to unpack .../archives/netbase_6.3_all.deb ...\n",
            "Unpacking netbase (6.3) ...\n",
            "Selecting previously unselected package inetutils-ping.\n",
            "Preparing to unpack .../inetutils-ping_2%3a2.2-2ubuntu0.1_amd64.deb ...\n",
            "Unpacking inetutils-ping (2:2.2-2ubuntu0.1) ...\n",
            "Setting up netbase (6.3) ...\n",
            "Setting up inetutils-ping (2:2.2-2ubuntu0.1) ...\n",
            "Processing triggers for man-db (2.10.2-1) ...\n"
          ]
        }
      ]
    },
    {
      "source": [
        "!ping google.com"
      ],
      "cell_type": "code",
      "metadata": {
        "colab": {
          "base_uri": "https://localhost:8080/"
        },
        "id": "_k-U0wXJUuPN",
        "outputId": "d1ec01de-668e-4f27-f0d6-a79ac67b0f63"
      },
      "execution_count": null,
      "outputs": [
        {
          "output_type": "stream",
          "name": "stdout",
          "text": [
            "PING google.com (74.125.197.113): 56 data bytes\n",
            "64 bytes from 74.125.197.113: icmp_seq=0 ttl=114 time=1.602 ms\n",
            "64 bytes from 74.125.197.113: icmp_seq=1 ttl=114 time=0.447 ms\n",
            "64 bytes from 74.125.197.113: icmp_seq=2 ttl=114 time=0.496 ms\n",
            "64 bytes from 74.125.197.113: icmp_seq=3 ttl=114 time=0.490 ms\n",
            "64 bytes from 74.125.197.113: icmp_seq=4 ttl=114 time=0.491 ms\n",
            "64 bytes from 74.125.197.113: icmp_seq=5 ttl=114 time=0.408 ms\n",
            "64 bytes from 74.125.197.113: icmp_seq=6 ttl=114 time=0.438 ms\n",
            "64 bytes from 74.125.197.113: icmp_seq=7 ttl=114 time=0.428 ms\n",
            "64 bytes from 74.125.197.113: icmp_seq=8 ttl=114 time=0.445 ms\n",
            "64 bytes from 74.125.197.113: icmp_seq=9 ttl=114 time=0.435 ms\n",
            "64 bytes from 74.125.197.113: icmp_seq=10 ttl=114 time=0.457 ms\n",
            "64 bytes from 74.125.197.113: icmp_seq=11 ttl=114 time=0.473 ms\n",
            "64 bytes from 74.125.197.113: icmp_seq=12 ttl=114 time=0.412 ms\n",
            "64 bytes from 74.125.197.113: icmp_seq=13 ttl=114 time=0.431 ms\n",
            "64 bytes from 74.125.197.113: icmp_seq=14 ttl=114 time=0.446 ms\n",
            "64 bytes from 74.125.197.113: icmp_seq=15 ttl=114 time=0.435 ms\n",
            "64 bytes from 74.125.197.113: icmp_seq=16 ttl=114 time=0.455 ms\n",
            "64 bytes from 74.125.197.113: icmp_seq=17 ttl=114 time=0.546 ms\n",
            "64 bytes from 74.125.197.113: icmp_seq=18 ttl=114 time=0.419 ms\n",
            "64 bytes from 74.125.197.113: icmp_seq=19 ttl=114 time=0.469 ms\n",
            "64 bytes from 74.125.197.113: icmp_seq=20 ttl=114 time=0.469 ms\n",
            "64 bytes from 74.125.197.113: icmp_seq=21 ttl=114 time=0.399 ms\n",
            "64 bytes from 74.125.197.113: icmp_seq=22 ttl=114 time=0.426 ms\n",
            "64 bytes from 74.125.197.113: icmp_seq=23 ttl=114 time=0.471 ms\n",
            "64 bytes from 74.125.197.113: icmp_seq=24 ttl=114 time=0.425 ms\n",
            "64 bytes from 74.125.197.113: icmp_seq=25 ttl=114 time=0.402 ms\n",
            "64 bytes from 74.125.197.113: icmp_seq=26 ttl=114 time=0.462 ms\n",
            "64 bytes from 74.125.197.113: icmp_seq=27 ttl=114 time=0.500 ms\n",
            "64 bytes from 74.125.197.113: icmp_seq=28 ttl=114 time=0.402 ms\n",
            "64 bytes from 74.125.197.113: icmp_seq=29 ttl=114 time=0.440 ms\n",
            "64 bytes from 74.125.197.113: icmp_seq=30 ttl=114 time=0.399 ms\n",
            "64 bytes from 74.125.197.113: icmp_seq=31 ttl=114 time=0.380 ms\n",
            "64 bytes from 74.125.197.113: icmp_seq=32 ttl=114 time=0.464 ms\n",
            "64 bytes from 74.125.197.113: icmp_seq=33 ttl=114 time=0.440 ms\n",
            "64 bytes from 74.125.197.113: icmp_seq=34 ttl=114 time=0.369 ms\n",
            "64 bytes from 74.125.197.113: icmp_seq=35 ttl=114 time=0.430 ms\n",
            "64 bytes from 74.125.197.113: icmp_seq=36 ttl=114 time=0.440 ms\n",
            "64 bytes from 74.125.197.113: icmp_seq=37 ttl=114 time=0.410 ms\n",
            "64 bytes from 74.125.197.113: icmp_seq=38 ttl=114 time=0.507 ms\n",
            "64 bytes from 74.125.197.113: icmp_seq=39 ttl=114 time=0.451 ms\n",
            "64 bytes from 74.125.197.113: icmp_seq=40 ttl=114 time=0.356 ms\n",
            "64 bytes from 74.125.197.113: icmp_seq=41 ttl=114 time=0.388 ms\n",
            "64 bytes from 74.125.197.113: icmp_seq=42 ttl=114 time=0.409 ms\n",
            "64 bytes from 74.125.197.113: icmp_seq=43 ttl=114 time=0.453 ms\n",
            "64 bytes from 74.125.197.113: icmp_seq=44 ttl=114 time=0.384 ms\n",
            "64 bytes from 74.125.197.113: icmp_seq=45 ttl=114 time=0.523 ms\n",
            "64 bytes from 74.125.197.113: icmp_seq=46 ttl=114 time=0.598 ms\n",
            "64 bytes from 74.125.197.113: icmp_seq=47 ttl=114 time=0.466 ms\n",
            "64 bytes from 74.125.197.113: icmp_seq=48 ttl=114 time=0.394 ms\n",
            "64 bytes from 74.125.197.113: icmp_seq=49 ttl=114 time=0.416 ms\n",
            "64 bytes from 74.125.197.113: icmp_seq=50 ttl=114 time=0.417 ms\n",
            "64 bytes from 74.125.197.113: icmp_seq=51 ttl=114 time=0.459 ms\n",
            "64 bytes from 74.125.197.113: icmp_seq=52 ttl=114 time=0.467 ms\n",
            "64 bytes from 74.125.197.113: icmp_seq=53 ttl=114 time=0.368 ms\n",
            "64 bytes from 74.125.197.113: icmp_seq=54 ttl=114 time=0.409 ms\n",
            "64 bytes from 74.125.197.113: icmp_seq=55 ttl=114 time=0.531 ms\n",
            "64 bytes from 74.125.197.113: icmp_seq=56 ttl=114 time=0.386 ms\n",
            "64 bytes from 74.125.197.113: icmp_seq=57 ttl=114 time=0.356 ms\n",
            "64 bytes from 74.125.197.113: icmp_seq=58 ttl=114 time=0.485 ms\n",
            "64 bytes from 74.125.197.113: icmp_seq=59 ttl=114 time=0.439 ms\n",
            "64 bytes from 74.125.197.113: icmp_seq=60 ttl=114 time=0.380 ms\n",
            "64 bytes from 74.125.197.113: icmp_seq=61 ttl=114 time=0.354 ms\n",
            "64 bytes from 74.125.197.113: icmp_seq=62 ttl=114 time=0.432 ms\n",
            "64 bytes from 74.125.197.113: icmp_seq=63 ttl=114 time=0.419 ms\n",
            "64 bytes from 74.125.197.113: icmp_seq=64 ttl=114 time=0.364 ms\n",
            "64 bytes from 74.125.197.113: icmp_seq=65 ttl=114 time=0.439 ms\n",
            "64 bytes from 74.125.197.113: icmp_seq=66 ttl=114 time=0.392 ms\n",
            "64 bytes from 74.125.197.113: icmp_seq=67 ttl=114 time=0.378 ms\n",
            "64 bytes from 74.125.197.113: icmp_seq=68 ttl=114 time=0.370 ms\n",
            "64 bytes from 74.125.197.113: icmp_seq=69 ttl=114 time=0.460 ms\n",
            "64 bytes from 74.125.197.113: icmp_seq=70 ttl=114 time=0.404 ms\n",
            "64 bytes from 74.125.197.113: icmp_seq=71 ttl=114 time=0.374 ms\n",
            "64 bytes from 74.125.197.113: icmp_seq=72 ttl=114 time=0.462 ms\n",
            "64 bytes from 74.125.197.113: icmp_seq=73 ttl=114 time=0.431 ms\n",
            "64 bytes from 74.125.197.113: icmp_seq=74 ttl=114 time=0.401 ms\n",
            "64 bytes from 74.125.197.113: icmp_seq=75 ttl=114 time=0.370 ms\n",
            "64 bytes from 74.125.197.113: icmp_seq=76 ttl=114 time=0.406 ms\n",
            "64 bytes from 74.125.197.113: icmp_seq=77 ttl=114 time=0.330 ms\n",
            "64 bytes from 74.125.197.113: icmp_seq=78 ttl=114 time=0.357 ms\n",
            "64 bytes from 74.125.197.113: icmp_seq=79 ttl=114 time=0.333 ms\n",
            "64 bytes from 74.125.197.113: icmp_seq=80 ttl=114 time=0.359 ms\n",
            "64 bytes from 74.125.197.113: icmp_seq=81 ttl=114 time=0.409 ms\n",
            "64 bytes from 74.125.197.113: icmp_seq=82 ttl=114 time=0.427 ms\n",
            "64 bytes from 74.125.197.113: icmp_seq=83 ttl=114 time=0.467 ms\n",
            "64 bytes from 74.125.197.113: icmp_seq=84 ttl=114 time=0.508 ms\n",
            "64 bytes from 74.125.197.113: icmp_seq=85 ttl=114 time=0.469 ms\n",
            "64 bytes from 74.125.197.113: icmp_seq=86 ttl=114 time=0.434 ms\n",
            "64 bytes from 74.125.197.113: icmp_seq=87 ttl=114 time=0.425 ms\n",
            "64 bytes from 74.125.197.113: icmp_seq=88 ttl=114 time=0.378 ms\n",
            "64 bytes from 74.125.197.113: icmp_seq=89 ttl=114 time=0.414 ms\n",
            "64 bytes from 74.125.197.113: icmp_seq=90 ttl=114 time=0.524 ms\n",
            "64 bytes from 74.125.197.113: icmp_seq=91 ttl=114 time=0.460 ms\n",
            "64 bytes from 74.125.197.113: icmp_seq=92 ttl=114 time=0.403 ms\n",
            "64 bytes from 74.125.197.113: icmp_seq=93 ttl=114 time=0.369 ms\n",
            "64 bytes from 74.125.197.113: icmp_seq=94 ttl=114 time=0.424 ms\n",
            "64 bytes from 74.125.197.113: icmp_seq=95 ttl=114 time=0.379 ms\n",
            "64 bytes from 74.125.197.113: icmp_seq=96 ttl=114 time=0.368 ms\n",
            "64 bytes from 74.125.197.113: icmp_seq=97 ttl=114 time=0.404 ms\n",
            "64 bytes from 74.125.197.113: icmp_seq=98 ttl=114 time=0.423 ms\n",
            "64 bytes from 74.125.197.113: icmp_seq=99 ttl=114 time=0.412 ms\n",
            "64 bytes from 74.125.197.113: icmp_seq=100 ttl=114 time=0.552 ms\n",
            "64 bytes from 74.125.197.113: icmp_seq=101 ttl=114 time=0.470 ms\n",
            "64 bytes from 74.125.197.113: icmp_seq=102 ttl=114 time=0.620 ms\n",
            "64 bytes from 74.125.197.113: icmp_seq=103 ttl=114 time=0.445 ms\n",
            "64 bytes from 74.125.197.113: icmp_seq=104 ttl=114 time=0.509 ms\n",
            "64 bytes from 74.125.197.113: icmp_seq=105 ttl=114 time=0.429 ms\n",
            "64 bytes from 74.125.197.113: icmp_seq=106 ttl=114 time=0.426 ms\n",
            "64 bytes from 74.125.197.113: icmp_seq=107 ttl=114 time=0.462 ms\n",
            "64 bytes from 74.125.197.113: icmp_seq=108 ttl=114 time=0.446 ms\n",
            "64 bytes from 74.125.197.113: icmp_seq=109 ttl=114 time=0.419 ms\n",
            "64 bytes from 74.125.197.113: icmp_seq=110 ttl=114 time=0.516 ms\n",
            "64 bytes from 74.125.197.113: icmp_seq=111 ttl=114 time=0.363 ms\n"
          ]
        }
      ]
    },
    {
      "source": [
        "!pip cache purge"
      ],
      "cell_type": "code",
      "metadata": {
        "colab": {
          "base_uri": "https://localhost:8080/"
        },
        "id": "aB3SNMcbUd0s",
        "outputId": "f4c40012-1401-4485-ba2c-e54d900df956"
      },
      "execution_count": 12,
      "outputs": [
        {
          "output_type": "stream",
          "name": "stdout",
          "text": [
            "Files removed: 115\n"
          ]
        }
      ]
    },
    {
      "source": [
        "!pip install teachopencadd"
      ],
      "cell_type": "code",
      "metadata": {
        "colab": {
          "base_uri": "https://localhost:8080/"
        },
        "id": "ujuGqUX6UeSA",
        "outputId": "cf79907b-964d-4adc-e853-8d164bbfc3eb"
      },
      "execution_count": 14,
      "outputs": [
        {
          "output_type": "stream",
          "name": "stdout",
          "text": [
            "\u001b[31mERROR: Could not find a version that satisfies the requirement teachopencadd (from versions: none)\u001b[0m\u001b[31m\n",
            "\u001b[0m\u001b[31mERROR: No matching distribution found for teachopencadd\u001b[0m\u001b[31m\n",
            "\u001b[0m"
          ]
        }
      ]
    }
  ]
}