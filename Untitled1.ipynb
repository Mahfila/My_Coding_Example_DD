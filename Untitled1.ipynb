{
  "cells": [
    {
      "cell_type": "markdown",
      "metadata": {
        "id": "view-in-github",
        "colab_type": "text"
      },
      "source": [
        "<a href=\"https://colab.research.google.com/github/Mahfila/My_Coding_Example_DD/blob/main/Untitled1.ipynb\" target=\"_parent\"><img src=\"https://colab.research.google.com/assets/colab-badge.svg\" alt=\"Open In Colab\"/></a>"
      ]
    },
    {
      "cell_type": "code",
      "execution_count": null,
      "id": "bfe2ef52",
      "metadata": {
        "id": "bfe2ef52",
        "outputId": "4e80429d-9fbd-4488-8424-5fd53538cbcb"
      },
      "outputs": [
        {
          "name": "stdout",
          "output_type": "stream",
          "text": [
            "Requirement already satisfied: rdkit in c:\\users\\redfil2015\\anaconda3\\lib\\site-packages (2022.9.2)\n",
            "Requirement already satisfied: pandas in c:\\users\\redfil2015\\anaconda3\\lib\\site-packages (2.0.3)\n",
            "Requirement already satisfied: scikit-learn in c:\\users\\redfil2015\\anaconda3\\lib\\site-packages (1.3.0)\n",
            "Requirement already satisfied: numpy in c:\\users\\redfil2015\\anaconda3\\lib\\site-packages (from rdkit) (1.24.3)\n",
            "Requirement already satisfied: Pillow in c:\\users\\redfil2015\\anaconda3\\lib\\site-packages (from rdkit) (9.4.0)\n",
            "Requirement already satisfied: python-dateutil>=2.8.2 in c:\\users\\redfil2015\\anaconda3\\lib\\site-packages (from pandas) (2.8.2)\n",
            "Requirement already satisfied: pytz>=2020.1 in c:\\users\\redfil2015\\anaconda3\\lib\\site-packages (from pandas) (2023.3.post1)\n",
            "Requirement already satisfied: tzdata>=2022.1 in c:\\users\\redfil2015\\anaconda3\\lib\\site-packages (from pandas) (2023.3)\n",
            "Requirement already satisfied: scipy>=1.5.0 in c:\\users\\redfil2015\\anaconda3\\lib\\site-packages (from scikit-learn) (1.12.0)\n",
            "Requirement already satisfied: joblib>=1.1.1 in c:\\users\\redfil2015\\anaconda3\\lib\\site-packages (from scikit-learn) (1.2.0)\n",
            "Requirement already satisfied: threadpoolctl>=2.0.0 in c:\\users\\redfil2015\\anaconda3\\lib\\site-packages (from scikit-learn) (2.2.0)\n",
            "Requirement already satisfied: six>=1.5 in c:\\users\\redfil2015\\anaconda3\\lib\\site-packages (from python-dateutil>=2.8.2->pandas) (1.16.0)\n"
          ]
        }
      ],
      "source": [
        "!pip install rdkit pandas scikit-learn\n",
        "\n",
        "import pandas as pd\n",
        "import numpy as np\n",
        "from rdkit import Chem\n",
        "from rdkit.Chem import Descriptors\n",
        "from sklearn.model_selection import train_test_split\n",
        "from sklearn import linear_model\n",
        "from sklearn.metrics import mean_squared_error, r2_score\n",
        "from sklearn import linear_model\n",
        "from sklearn.metrics import mean_squared_error, r2_score\n",
        "import matplotlib.pyplot as plt\n"
      ]
    },
    {
      "cell_type": "code",
      "execution_count": null,
      "id": "ef8b2116",
      "metadata": {
        "id": "ef8b2116"
      },
      "outputs": [],
      "source": [
        "def generate(smiles, verbose=False):\n",
        "    moldata= []\n",
        "    for elem in smiles:\n",
        "        mol=Chem.MolFromSmiles(elem)\n",
        "        moldata.append(mol)\n",
        "\n",
        "    baseData= np.arange(1,1)\n",
        "    i=0\n",
        "    for mol in moldata:\n",
        "        desc_MolLogP = Descriptors.MolLogP(mol)\n",
        "        desc_MolWt = Descriptors.MolWt(mol)\n",
        "        desc_NumRotatableBonds = Descriptors.NumRotatableBonds(mol)\n",
        "\n",
        "        row = np.array([desc_MolLogP,\n",
        "                        desc_MolWt,\n",
        "                        desc_NumRotatableBonds])\n",
        "\n",
        "        if(i==0):\n",
        "            baseData=row\n",
        "        else:\n",
        "            baseData=np.vstack([baseData, row])\n",
        "        i=i+1\n",
        "\n",
        "    columnNames=[\"MolLogP\",\"MolWt\",\"NumRotatableBonds\"]\n",
        "    descriptors = pd.DataFrame(data=baseData,columns=columnNames)\n",
        "\n",
        "    return descriptors"
      ]
    },
    {
      "cell_type": "code",
      "execution_count": null,
      "id": "5fbd457e",
      "metadata": {
        "id": "5fbd457e"
      },
      "outputs": [],
      "source": [
        "\n",
        "def AromaticAtoms(m):\n",
        "  aromatic_atoms = [m.GetAtomWithIdx(i).GetIsAromatic() for i in range(m.GetNumAtoms())]\n",
        "  aa_count = []\n",
        "  for i in aromatic_atoms:\n",
        "    if i==True:\n",
        "      aa_count.append(1)\n",
        "  sum_aa_count = sum(aa_count)\n",
        "  return sum_aa_count\n",
        "\n",
        "def calculate_instances(sol):\n",
        "  df = generate(sol.SMILES)\n",
        "\n",
        "\n",
        "  desc_AromaticAtoms = [AromaticAtoms(element) for element in mol_list]\n",
        "  desc_HeavyAtomCount = [Descriptors.HeavyAtomCount(element) for element in mol_list]\n",
        "  desc_AromaticProportion = [AromaticAtoms(element)/Descriptors.HeavyAtomCount(element) for element in mol_list]\n",
        "\n",
        "  df_desc_AromaticProportion = pd.DataFrame(desc_AromaticProportion)\n",
        "\n",
        "  X = pd.concat([df,df_desc_AromaticProportion], axis=1)\n",
        "  Y = sol.iloc[:,1]\n",
        "  return X,Y"
      ]
    },
    {
      "cell_type": "code",
      "execution_count": null,
      "id": "aaa15892",
      "metadata": {
        "id": "aaa15892"
      },
      "outputs": [],
      "source": [
        "\n",
        "def plots(Y_train,Y_pred_train, Y_test, Y_pred_test):\n",
        "  plt.figure(figsize=(5,11))\n",
        "\n",
        "  # 2 row, 1 column, plot 1\n",
        "  plt.subplot(2, 1, 1)\n",
        "  plt.scatter(x=Y_train, y=Y_pred_train, c=\"#7CAE00\", alpha=0.3)\n",
        "\n",
        "  # Add trendline\n",
        "  # https://stackoverflow.com/questions/26447191/how-to-add-trendline-in-python-matplotlib-dot-scatter-graphs\n",
        "  z = np.polyfit(Y_train, Y_pred_train, 1)\n",
        "  p = np.poly1d(z)\n",
        "  plt.plot(Y_test,p(Y_test),\"#F8766D\")\n",
        "\n",
        "  plt.ylabel('Predicted LogS')"
      ]
    },
    {
      "cell_type": "code",
      "execution_count": null,
      "id": "fbfe00c8",
      "metadata": {
        "id": "fbfe00c8",
        "outputId": "b47d2f92-e411-4210-9318-54287a0a1707"
      },
      "outputs": [
        {
          "ename": "IndentationError",
          "evalue": "unexpected indent (1697372875.py, line 2)",
          "output_type": "error",
          "traceback": [
            "\u001b[1;36m  Cell \u001b[1;32mIn[8], line 2\u001b[1;36m\u001b[0m\n\u001b[1;33m    plt.subplot(2, 1, 2)\u001b[0m\n\u001b[1;37m    ^\u001b[0m\n\u001b[1;31mIndentationError\u001b[0m\u001b[1;31m:\u001b[0m unexpected indent\n"
          ]
        }
      ],
      "source": [
        " # 2 row, 1 column, plot 2\n",
        "  plt.subplot(2, 1, 2)\n",
        "  plt.scatter(x=Y_test, y=Y_pred_test, c=\"#619CFF\", alpha=0.3)\n",
        "\n",
        "  z = np.polyfit(Y_test, Y_pred_test, 1)\n",
        "  p = np.poly1d(z)\n",
        "  plt.plot(Y_test,p(Y_test),\"#F8766D\")\n",
        "\n",
        "  plt.ylabel('Predicted LogS')\n",
        "  plt.xlabel('Experimental LogS')\n",
        "\n",
        "  plt.savefig('plot_vertical_logS.png')\n",
        "  plt.savefig('plot_vertical_logS.pdf')\n",
        "  plt.show()"
      ]
    },
    {
      "cell_type": "code",
      "execution_count": null,
      "id": "b37c15da",
      "metadata": {
        "id": "b37c15da"
      },
      "outputs": [],
      "source": [
        "def model_performances(model, X, Y):\n",
        "  Y_pred = model.predict(X)\n",
        "  print(3*\" \")\n",
        "  print('Coefficients:', model.coef_)\n",
        "  print('Intercept:', model.intercept_)\n",
        "  print('Mean squared error (MSE): %.2f'\n",
        "        % mean_squared_error(Y, Y_pred))\n",
        "  print('Coefficient of determination (R^2): %.2f'\n",
        "        % r2_score(Y, Y_pred))\n",
        "  return Y_pred"
      ]
    },
    {
      "cell_type": "code",
      "execution_count": null,
      "id": "e990f65a",
      "metadata": {
        "id": "e990f65a"
      },
      "outputs": [],
      "source": [
        "def print_intercept(model):\n",
        "  print(3*\"\")\n",
        "  print(\"equation\")\n",
        "  yintercept = '%.2f' % model.intercept_\n",
        "  LogP = '%.2f LogP' % model.coef_[0]\n",
        "  MW = '%.4f MW' % model.coef_[1]\n",
        "  RB = '%.4f RB' % model.coef_[2]\n",
        "  AP = '%.2f AP' % model.coef_[3]\n",
        "  print('LogS = ' +\n",
        "        ' ' +\n",
        "        yintercept +\n",
        "        ' ' +\n",
        "        LogP +\n",
        "        ' ' +\n",
        "        MW +\n",
        "        ' ' +\n",
        "        RB +\n",
        "        ' ' +\n",
        "        AP)\n",
        "\n"
      ]
    },
    {
      "cell_type": "code",
      "execution_count": null,
      "id": "f7c28867",
      "metadata": {
        "id": "f7c28867",
        "outputId": "1b82f68c-9211-4b37-938c-e095cfcbee0a"
      },
      "outputs": [
        {
          "data": {
            "text/html": [
              "<div>\n",
              "<style scoped>\n",
              "    .dataframe tbody tr th:only-of-type {\n",
              "        vertical-align: middle;\n",
              "    }\n",
              "\n",
              "    .dataframe tbody tr th {\n",
              "        vertical-align: top;\n",
              "    }\n",
              "\n",
              "    .dataframe thead th {\n",
              "        text-align: right;\n",
              "    }\n",
              "</style>\n",
              "<table border=\"1\" class=\"dataframe\">\n",
              "  <thead>\n",
              "    <tr style=\"text-align: right;\">\n",
              "      <th></th>\n",
              "      <th>id</th>\n",
              "      <th>smile</th>\n",
              "      <th>docking_score</th>\n",
              "    </tr>\n",
              "  </thead>\n",
              "  <tbody>\n",
              "    <tr>\n",
              "      <th>0</th>\n",
              "      <td>ZINC000253394303</td>\n",
              "      <td>O=C(c1ccc(-c2cccc(Cl)c2)cc1)N1CCC(N2C(=O)CNC2=...</td>\n",
              "      <td>-11.2</td>\n",
              "    </tr>\n",
              "    <tr>\n",
              "      <th>1</th>\n",
              "      <td>ZINC000096150978</td>\n",
              "      <td>CN1c2ccccc2C2(CCN(C(=O)Nc3ccc4c(c3)COC4)CC2)C1=O</td>\n",
              "      <td>-10.9</td>\n",
              "    </tr>\n",
              "    <tr>\n",
              "      <th>2</th>\n",
              "      <td>ZINC000169768481</td>\n",
              "      <td>CN1c2cc(C(=O)N3CCc4ccccc4C3)ccc2C(=O)N2CCC[C@@...</td>\n",
              "      <td>-10.8</td>\n",
              "    </tr>\n",
              "    <tr>\n",
              "      <th>3</th>\n",
              "      <td>ZINC000091412307</td>\n",
              "      <td>Cn1cnc2cc(C(=O)N3CCC4(CCC(=O)N(C)C4)CC3)ccc2c1=O</td>\n",
              "      <td>-10.6</td>\n",
              "    </tr>\n",
              "    <tr>\n",
              "      <th>4</th>\n",
              "      <td>ZINC000065384935</td>\n",
              "      <td>Cc1c(N2CCCC2)ccc2c1NC(=O)C[C@@H]2c1ccc2c(c1)nnn2C</td>\n",
              "      <td>-10.6</td>\n",
              "    </tr>\n",
              "  </tbody>\n",
              "</table>\n",
              "</div>"
            ],
            "text/plain": [
              "                 id                                              smile  \\\n",
              "0  ZINC000253394303  O=C(c1ccc(-c2cccc(Cl)c2)cc1)N1CCC(N2C(=O)CNC2=...   \n",
              "1  ZINC000096150978   CN1c2ccccc2C2(CCN(C(=O)Nc3ccc4c(c3)COC4)CC2)C1=O   \n",
              "2  ZINC000169768481  CN1c2cc(C(=O)N3CCc4ccccc4C3)ccc2C(=O)N2CCC[C@@...   \n",
              "3  ZINC000091412307   Cn1cnc2cc(C(=O)N3CCC4(CCC(=O)N(C)C4)CC3)ccc2c1=O   \n",
              "4  ZINC000065384935  Cc1c(N2CCCC2)ccc2c1NC(=O)C[C@@H]2c1ccc2c(c1)nnn2C   \n",
              "\n",
              "   docking_score  \n",
              "0          -11.2  \n",
              "1          -10.9  \n",
              "2          -10.8  \n",
              "3          -10.6  \n",
              "4          -10.6  "
            ]
          },
          "execution_count": 13,
          "metadata": {},
          "output_type": "execute_result"
        }
      ],
      "source": [
        "\n",
        "##################\n",
        "df = pd.read_csv('RyR2_3.5m.csv')\n",
        "df.head()\n"
      ]
    },
    {
      "cell_type": "code",
      "execution_count": null,
      "id": "97b83019",
      "metadata": {
        "id": "97b83019",
        "outputId": "a19ca5a3-a8c8-47ca-8a08-0c7e185a72c2"
      },
      "outputs": [
        {
          "data": {
            "text/plain": [
              "0          O=C(c1ccc(-c2cccc(Cl)c2)cc1)N1CCC(N2C(=O)CNC2=...\n",
              "1           CN1c2ccccc2C2(CCN(C(=O)Nc3ccc4c(c3)COC4)CC2)C1=O\n",
              "2          CN1c2cc(C(=O)N3CCc4ccccc4C3)ccc2C(=O)N2CCC[C@@...\n",
              "3           Cn1cnc2cc(C(=O)N3CCC4(CCC(=O)N(C)C4)CC3)ccc2c1=O\n",
              "4          Cc1c(N2CCCC2)ccc2c1NC(=O)C[C@@H]2c1ccc2c(c1)nnn2C\n",
              "                                 ...                        \n",
              "1756660                                                C=COC\n",
              "1756661                                           C[PH](C)=O\n",
              "1756662                                              CN(C)Cl\n",
              "1756663                                               N#CC#N\n",
              "1756664                                                 CCOC\n",
              "Name: smile, Length: 1756665, dtype: object"
            ]
          },
          "execution_count": 14,
          "metadata": {},
          "output_type": "execute_result"
        }
      ],
      "source": [
        "\n",
        "df.smile"
      ]
    },
    {
      "cell_type": "code",
      "execution_count": null,
      "id": "8894ba26",
      "metadata": {
        "id": "8894ba26"
      },
      "outputs": [],
      "source": [
        "mol_list= []\n",
        "for element in df.smile:\n",
        "  mol = Chem.MolFromSmiles(element)\n",
        "  mol_list.append(mol)\n"
      ]
    },
    {
      "cell_type": "code",
      "execution_count": null,
      "id": "7505970a",
      "metadata": {
        "id": "7505970a",
        "outputId": "1fbafefe-6f23-43ff-f128-6ae33011fe2b"
      },
      "outputs": [
        {
          "ename": "AttributeError",
          "evalue": "'DataFrame' object has no attribute 'SMILES'",
          "output_type": "error",
          "traceback": [
            "\u001b[1;31m---------------------------------------------------------------------------\u001b[0m",
            "\u001b[1;31mAttributeError\u001b[0m                            Traceback (most recent call last)",
            "Cell \u001b[1;32mIn[16], line 1\u001b[0m\n\u001b[1;32m----> 1\u001b[0m X, Y \u001b[38;5;241m=\u001b[39m calculate_instances(sol)\n\u001b[0;32m      3\u001b[0m X_train, X_test, Y_train, Y_test \u001b[38;5;241m=\u001b[39m train_test_split(X, Y,test_size\u001b[38;5;241m=\u001b[39m\u001b[38;5;241m0.2\u001b[39m)\n\u001b[0;32m      7\u001b[0m model \u001b[38;5;241m=\u001b[39m linear_model\u001b[38;5;241m.\u001b[39mLinearRegression()\n",
            "Cell \u001b[1;32mIn[4], line 11\u001b[0m, in \u001b[0;36mcalculate_instances\u001b[1;34m(sol)\u001b[0m\n\u001b[0;32m     10\u001b[0m \u001b[38;5;28;01mdef\u001b[39;00m \u001b[38;5;21mcalculate_instances\u001b[39m(sol):\n\u001b[1;32m---> 11\u001b[0m   df \u001b[38;5;241m=\u001b[39m generate(sol\u001b[38;5;241m.\u001b[39mSMILES)\n\u001b[0;32m     14\u001b[0m   desc_AromaticAtoms \u001b[38;5;241m=\u001b[39m [AromaticAtoms(element) \u001b[38;5;28;01mfor\u001b[39;00m element \u001b[38;5;129;01min\u001b[39;00m mol_list]\n\u001b[0;32m     15\u001b[0m   desc_HeavyAtomCount \u001b[38;5;241m=\u001b[39m [Descriptors\u001b[38;5;241m.\u001b[39mHeavyAtomCount(element) \u001b[38;5;28;01mfor\u001b[39;00m element \u001b[38;5;129;01min\u001b[39;00m mol_list]\n",
            "File \u001b[1;32m~\\anaconda3\\Lib\\site-packages\\pandas\\core\\generic.py:5989\u001b[0m, in \u001b[0;36mNDFrame.__getattr__\u001b[1;34m(self, name)\u001b[0m\n\u001b[0;32m   5982\u001b[0m \u001b[38;5;28;01mif\u001b[39;00m (\n\u001b[0;32m   5983\u001b[0m     name \u001b[38;5;129;01mnot\u001b[39;00m \u001b[38;5;129;01min\u001b[39;00m \u001b[38;5;28mself\u001b[39m\u001b[38;5;241m.\u001b[39m_internal_names_set\n\u001b[0;32m   5984\u001b[0m     \u001b[38;5;129;01mand\u001b[39;00m name \u001b[38;5;129;01mnot\u001b[39;00m \u001b[38;5;129;01min\u001b[39;00m \u001b[38;5;28mself\u001b[39m\u001b[38;5;241m.\u001b[39m_metadata\n\u001b[0;32m   5985\u001b[0m     \u001b[38;5;129;01mand\u001b[39;00m name \u001b[38;5;129;01mnot\u001b[39;00m \u001b[38;5;129;01min\u001b[39;00m \u001b[38;5;28mself\u001b[39m\u001b[38;5;241m.\u001b[39m_accessors\n\u001b[0;32m   5986\u001b[0m     \u001b[38;5;129;01mand\u001b[39;00m \u001b[38;5;28mself\u001b[39m\u001b[38;5;241m.\u001b[39m_info_axis\u001b[38;5;241m.\u001b[39m_can_hold_identifiers_and_holds_name(name)\n\u001b[0;32m   5987\u001b[0m ):\n\u001b[0;32m   5988\u001b[0m     \u001b[38;5;28;01mreturn\u001b[39;00m \u001b[38;5;28mself\u001b[39m[name]\n\u001b[1;32m-> 5989\u001b[0m \u001b[38;5;28;01mreturn\u001b[39;00m \u001b[38;5;28mobject\u001b[39m\u001b[38;5;241m.\u001b[39m\u001b[38;5;21m__getattribute__\u001b[39m(\u001b[38;5;28mself\u001b[39m, name)\n",
            "\u001b[1;31mAttributeError\u001b[0m: 'DataFrame' object has no attribute 'SMILES'"
          ]
        }
      ],
      "source": [
        "\n",
        "X, Y = calculate_instances(sol)\n",
        "\n",
        "X_train, X_test, Y_train, Y_test = train_test_split(X, Y,test_size=0.2)\n",
        "\n",
        "\n",
        "\n",
        "model = linear_model.LinearRegression()\n",
        "model.fit(X_train, Y_train)"
      ]
    },
    {
      "cell_type": "code",
      "execution_count": null,
      "id": "4d324e88",
      "metadata": {
        "id": "4d324e88"
      },
      "outputs": [],
      "source": [
        "#4. Results\n",
        "#4.1. Linear Regression Model\n",
        "#4.1.1. Predict the LogS value of X_train and X_test data\n",
        "\n",
        "Y_pred_train = model_performances(model, X_train, Y_train)\n",
        "Y_pred_test = model_performances(model, X_test, Y_test)\n",
        "\n",
        "\n",
        "print_intercept(model)\n",
        "\n",
        "print(10*\"\")\n",
        "plots(Y_train,Y_pred_train, Y_test, Y_pred_test)"
      ]
    },
    {
      "cell_type": "code",
      "execution_count": null,
      "id": "fbe2e187",
      "metadata": {
        "id": "fbe2e187"
      },
      "outputs": [],
      "source": []
    }
  ],
  "metadata": {
    "kernelspec": {
      "display_name": "Python 3 (ipykernel)",
      "language": "python",
      "name": "python3"
    },
    "language_info": {
      "codemirror_mode": {
        "name": "ipython",
        "version": 3
      },
      "file_extension": ".py",
      "mimetype": "text/x-python",
      "name": "python",
      "nbconvert_exporter": "python",
      "pygments_lexer": "ipython3",
      "version": "3.11.5"
    },
    "colab": {
      "provenance": [],
      "include_colab_link": true
    }
  },
  "nbformat": 4,
  "nbformat_minor": 5
}